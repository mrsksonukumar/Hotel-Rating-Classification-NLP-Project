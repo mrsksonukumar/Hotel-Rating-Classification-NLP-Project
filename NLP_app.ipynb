{
 "cells": [
  {
   "cell_type": "code",
   "execution_count": 1,
   "id": "b85e3c91",
   "metadata": {},
   "outputs": [],
   "source": [
    "import streamlit as st\n",
    "import pandas as pd\n",
    "import numpy as np\n",
    "import pickle\n",
    "from sklearn.svm import SVC\n",
    "from pickle import load \n",
    "import re\n",
    "import string\n",
    "import nltk\n",
    "from nltk.corpus import stopwords\n",
    "from nltk import pos_tag\n",
    "import rake_nltk\n",
    "from rake_nltk import Rake\n",
    "from nltk.tokenize import WhitespaceTokenizer,word_tokenize\n",
    "from nltk.stem import WordNetLemmatizer\n",
    "import warnings\n",
    "warnings.filterwarnings('ignore')"
   ]
  },
  {
   "cell_type": "code",
   "execution_count": 2,
   "id": "90071916",
   "metadata": {},
   "outputs": [
    {
     "name": "stderr",
     "output_type": "stream",
     "text": [
      "2022-11-23 16:36:06.470 \n",
      "  \u001b[33m\u001b[1mWarning:\u001b[0m to view this Streamlit app on a browser, run it with the following\n",
      "  command:\n",
      "\n",
      "    streamlit run C:\\Users\\nehas\\anaconda3\\lib\\site-packages\\ipykernel_launcher.py [ARGUMENTS]\n"
     ]
    },
    {
     "data": {
      "text/plain": [
       "DeltaGenerator(_root_container=0, _provided_cursor=None, _parent=None, _block_type=None, _form_data=None)"
      ]
     },
     "execution_count": 2,
     "metadata": {},
     "output_type": "execute_result"
    }
   ],
   "source": [
    "# body of the application \n",
    "st.header('HOTEL RATING CLASSIFICATION')\n",
    "st.markdown('This apllication is build on the machine learning model-Support Vector Machine ')\n",
    "st.markdown('This application can predict whether the review is positive , negative or neutral')"
   ]
  },
  {
   "cell_type": "code",
   "execution_count": 3,
   "id": "69ae5801",
   "metadata": {},
   "outputs": [],
   "source": [
    "# input your review for prediction\n",
    "input_review=(st.text_area('Type your reviews here....',\"\"\"\"\"\"))"
   ]
  },
  {
   "cell_type": "code",
   "execution_count": 4,
   "id": "a284237e",
   "metadata": {},
   "outputs": [],
   "source": [
    "#loading both svm and tfid Vectorizer intelligence for deployement\n",
    "logistic=load(open(\"C:\\\\Users\\\\nehas\\\\logistic_model_deploy.pkl\",\"rb\"))\n",
    "tfid=load(open(\"C:\\\\Users\\\\nehas\\\\tfid_deploy.pkl\",\"rb\"))"
   ]
  },
  {
   "cell_type": "code",
   "execution_count": 5,
   "id": "c5223040",
   "metadata": {},
   "outputs": [],
   "source": [
    "lemmatizer=WordNetLemmatizer()\n",
    "w_tokenizer=WhitespaceTokenizer()"
   ]
  },
  {
   "cell_type": "code",
   "execution_count": 6,
   "id": "e87bec68",
   "metadata": {},
   "outputs": [],
   "source": [
    "stoplist = set(stopwords.words(\"english\"))"
   ]
  },
  {
   "cell_type": "code",
   "execution_count": 7,
   "id": "9ca1d71f",
   "metadata": {},
   "outputs": [],
   "source": [
    "def clean_data(text):\n",
    "        text=text.lower()\n",
    "        text=re.sub(\"\\[.*?\\]\",\"\",text)\n",
    "        text=re.sub('\\S*https?:\\S*',\"\",text)\n",
    "        text=re.sub(\"[%s]\" % re.escape(string.punctuation),\"\",text)\n",
    "        text=re.sub(\"\\w*\\d\\w*\",\"\",text)\n",
    "        text=re.sub(\"\\n\",\"\",text)\n",
    "        text=re.sub(' +', \" \", text)\n",
    "        return text\n",
    "\n",
    "\n",
    "\n",
    "clean= clean_data(input_review)"
   ]
  },
  {
   "cell_type": "code",
   "execution_count": 8,
   "id": "05dce8e7",
   "metadata": {},
   "outputs": [],
   "source": [
    "def lemmatize(txt):\n",
    "    list_review=[lemmatizer.lemmatize(word=word, pos=tag[0].lower()) \n",
    "                 if tag[0].lower() in ['a','r','n','v'] else word for word, tag in pos_tag(w_tokenizer.tokenize(txt))]\n",
    "    return (' '.join([x for x in list_review if x]))"
   ]
  },
  {
   "cell_type": "code",
   "execution_count": 9,
   "id": "7a930015",
   "metadata": {},
   "outputs": [],
   "source": [
    "#transforming text into numeric\n",
    "x=tfid.transform([lemmatize(clean)])"
   ]
  },
  {
   "cell_type": "code",
   "execution_count": 10,
   "id": "b97789a5",
   "metadata": {},
   "outputs": [],
   "source": [
    "#making prediction\n",
    "if st.button(\"Click to make prediction\"):\n",
    "    tfid=tfid.transform([lemmatize(clean)])\n",
    "    prediction=logistic.predict(tfid)\n",
    "    prediction =prediction[0]\n",
    "    if prediction == 'Negative':\n",
    "        st.error(\"This is a Negative Review!\")\n",
    "    elif prediction =='Neutral':\n",
    "        st.warning(\"This is a Neutral Review!\")\n",
    "    else:\n",
    "        st.success(\"This is a Positive Review!\")"
   ]
  },
  {
   "cell_type": "code",
   "execution_count": 11,
   "id": "31192196",
   "metadata": {},
   "outputs": [],
   "source": [
    "#getting keywords using rake module\n",
    "def get_keywords(text):\n",
    "    r = Rake(stopwords=set(stoplist), punctuations=set(string.punctuation), include_repeated_phrases=False)\n",
    "    r.extract_keywords_from_text(input_review)\n",
    "    words = [re.sub(\"[%s]\" % re.escape(string.punctuation), \"\", x) for x in r.get_ranked_phrases()]\n",
    "    words = [x.strip() for x in words if x]\n",
    "    return words"
   ]
  },
  {
   "cell_type": "code",
   "execution_count": 12,
   "id": "48cc3344",
   "metadata": {},
   "outputs": [],
   "source": [
    "result = get_keywords(input_review)"
   ]
  },
  {
   "cell_type": "code",
   "execution_count": 13,
   "id": "8e8f49db",
   "metadata": {},
   "outputs": [
    {
     "data": {
      "text/plain": [
       "DeltaGenerator(_root_container=0, _provided_cursor=None, _parent=None, _block_type=None, _form_data=None)"
      ]
     },
     "execution_count": 13,
     "metadata": {},
     "output_type": "execute_result"
    }
   ],
   "source": [
    "st.subheader(\"Influencing Attributes for the Review\")"
   ]
  },
  {
   "cell_type": "code",
   "execution_count": 14,
   "id": "3f98a7ba",
   "metadata": {},
   "outputs": [],
   "source": [
    "radio=st.sidebar.radio(\"Click below to get top Keywords!\",(\"Top 10\",\"Top 20\",\"All\"))"
   ]
  },
  {
   "cell_type": "code",
   "execution_count": 15,
   "id": "50f27277",
   "metadata": {},
   "outputs": [],
   "source": [
    "if radio==\"Top 10\":\n",
    "    for word in result[:10]:\n",
    "        st.markdown(word)\n",
    "elif radio==\"Top 20\":\n",
    "    for word in result[:20]:\n",
    "        st.markdown(word)\n",
    "else:\n",
    "    for word in result:\n",
    "        st.markdown(word)"
   ]
  },
  {
   "cell_type": "code",
   "execution_count": null,
   "id": "44d230a6",
   "metadata": {},
   "outputs": [],
   "source": []
  },
  {
   "cell_type": "code",
   "execution_count": null,
   "id": "0196662e",
   "metadata": {},
   "outputs": [],
   "source": []
  }
 ],
 "metadata": {
  "kernelspec": {
   "display_name": "Python 3 (ipykernel)",
   "language": "python",
   "name": "python3"
  },
  "language_info": {
   "codemirror_mode": {
    "name": "ipython",
    "version": 3
   },
   "file_extension": ".py",
   "mimetype": "text/x-python",
   "name": "python",
   "nbconvert_exporter": "python",
   "pygments_lexer": "ipython3",
   "version": "3.9.13"
  }
 },
 "nbformat": 4,
 "nbformat_minor": 5
}
